{
 "cells": [
  {
   "cell_type": "code",
   "execution_count": 1,
   "id": "33620973",
   "metadata": {},
   "outputs": [],
   "source": [
    "import numpy as np\n",
    "import pandas as pd\n",
    "import os\n",
    "import matplotlib.pyplot as plt\n",
    "import warnings\n",
    "warnings.filterwarnings('ignore')\n",
    "\n",
    "root_path = 'S:\\PCRC 186 Lou'\n",
    "data_path = 'S:\\PCRC 186 Lou\\Tab delimited'"
   ]
  },
  {
   "cell_type": "markdown",
   "id": "2ce068cc",
   "metadata": {},
   "source": [
    "### Race info (aggregated and institution-wise) for caseinfo2"
   ]
  },
  {
   "cell_type": "code",
   "execution_count": 69,
   "id": "b1dcb01c",
   "metadata": {},
   "outputs": [],
   "source": [
    "def race_prevalence_hospital(df):\n",
    "\n",
    "    #overall_prevalence = df['Race'].value_counts(normalize=True) * 100\n",
    "    race_agg = pd.DataFrame(df['Race'].value_counts()).reset_index(drop = False).rename(columns = {'Race':'count', 'index':'race'})\n",
    "    race_agg['count%'] = (race_agg['count']/race_agg['count'].sum())*100\n",
    "    assert race_agg['count%'].sum() == 100\n",
    "\n",
    "    institution_prevalence = pd.pivot_table(df, index='Institution', columns='Race', aggfunc='size', fill_value=0)\n",
    "\n",
    "    institution_prevalence_percentage = institution_prevalence.div(institution_prevalence.sum(axis=1), axis=0) * 100\n",
    "\n",
    "    inst_race_df = pd.concat([institution_prevalence, institution_prevalence_percentage], axis=1, keys=[ 'count', 'count%'])\n",
    "\n",
    "    return race_agg, inst_race_df\n",
    "\n",
    "#Compute the prevalence of each race category across the entirety of caseinfo2 and at each individual \n",
    "#hospital (i.e., make a table with one row for each institution, and columns for the\n",
    "#and % of each race category at that institution).\n",
    "\n",
    "#caseinfo2 = pd.read_csv(os.path.join(data_path, 'PCRC_186_SDF_CaseInfo2_20230309.csv')).drop_duplicates()\n",
    "\n",
    "bad_inst_list = [67, 118, 92, 101, 91, 115, 102, 99, 13, 98]\n",
    "caseinfo2_filtered = caseinfo2.loc[~caseinfo2.Institution.isin(bad_inst_list)].reset_index(drop = True)\n",
    "\n",
    "race_agg, inst_race_df = race_prevalence_hospital(caseinfo2_filtered)\n",
    "\n",
    "save_dir = 'S:/PCRC 186 Lou/Sayantan/MPOG_work/Results'\n",
    "race_agg.to_csv(os.path.join(save_dir, \"race_agg_caseinfo2.csv\"), index=False)\n",
    "inst_race_df.to_csv(os.path.join(save_dir, \"inst_race_caseinfo2.csv\"), index=True)"
   ]
  },
  {
   "cell_type": "code",
   "execution_count": 70,
   "id": "9510152e",
   "metadata": {},
   "outputs": [
    {
     "name": "stdout",
     "output_type": "stream",
     "text": [
      "Number of entries in Caseinfo1 = 7060060\n",
      "Number of entries in Caseinfo2 = 4155859\n",
      "Number of unique caseID in Caseinfo1 = 7060060\n",
      "Number of unique caseID in Caseinfo2 = 4155859\n"
     ]
    }
   ],
   "source": [
    "#---------Loading caseinfo and cpt files -------------\n",
    "\n",
    "caseinfo1 = pd.read_csv(os.path.join(data_path, 'PCRC_186_SDF_CaseInfo1_20230309.csv')).drop_duplicates()\n",
    "caseinfo2 = pd.read_csv(os.path.join(data_path, 'PCRC_186_SDF_CaseInfo2_20230309.csv')).drop_duplicates()\n",
    "\n",
    "caseinfo1['MPOG_Patient_ID'] = caseinfo1['MPOG_Patient_ID'].str.replace('-','').str.lower()\n",
    "caseinfo1['MPOG_Case_ID'] = caseinfo1['MPOG_Case_ID'].str.replace('-','').str.lower()\n",
    "\n",
    "caseinfo2['MPOG_Patient_ID'] = caseinfo2['MPOG_Patient_ID'].str.replace('-','').str.lower()\n",
    "caseinfo2['MPOG_Case_ID'] = caseinfo2['MPOG_Case_ID'].str.replace('-','').str.lower()\n",
    "\n",
    "#------------- Converting the units of height and weight ----------\n",
    "\n",
    "caseinfo1['Height (inch)'] = caseinfo1['Height (cm)']* 0.4\n",
    "caseinfo1['Weight (pounds)'] = caseinfo1['Weight (kg)']* 2.2\n",
    "caseinfo2['Height (inch)'] = caseinfo2['Height (cm)']* 0.4\n",
    "caseinfo2['Weight (pounds)'] = caseinfo2['Weight (kg)']* 2.2\n",
    "\n",
    "#------------- Creating labels (transfusion needed or not) ------\n",
    "caseinfo1['NOTHBLEED'] = None\n",
    "caseinfo1.loc[caseinfo1['Blood Product Total - PRBCs (ml)'] == 0, 'NOTHBLEED'] = 0\n",
    "caseinfo1.loc[caseinfo1['Blood Product Total - PRBCs (ml)'] > 0, 'NOTHBLEED'] = 1\n",
    "\n",
    "caseinfo2['NOTHBLEED'] = None\n",
    "caseinfo2.loc[caseinfo2['Blood Product Total - PRBCs (ml)'] == 0, 'NOTHBLEED'] = 0\n",
    "caseinfo2.loc[caseinfo2['Blood Product Total - PRBCs (ml)'] > 0, 'NOTHBLEED'] = 1\n",
    "\n",
    "print('Number of entries in Caseinfo1 = {}'.format(len(caseinfo1)))\n",
    "print('Number of entries in Caseinfo2 = {}'.format(len(caseinfo2)))\n",
    "\n",
    "print('Number of unique caseID in Caseinfo1 = {}'.format(len(caseinfo1.MPOG_Case_ID.unique())))\n",
    "print('Number of unique caseID in Caseinfo2 = {}'.format(len(caseinfo2.MPOG_Case_ID.unique())))\n"
   ]
  },
  {
   "cell_type": "markdown",
   "id": "f6d6559c",
   "metadata": {},
   "source": [
    "### Add smoke info"
   ]
  },
  {
   "cell_type": "code",
   "execution_count": 71,
   "id": "3379f829",
   "metadata": {},
   "outputs": [
    {
     "name": "stdout",
     "output_type": "stream",
     "text": [
      "Number of entries in Caseinfo1 = 7060060\n",
      "Number of entries in Caseinfo2 = 4155859\n",
      "Number of unique caseID in Caseinfo1 = 7060060\n",
      "Number of unique caseID in Caseinfo2 = 4155859\n"
     ]
    }
   ],
   "source": [
    "#------------ Adding smoke information from addinfo (current user/former user) ----------\n",
    "\n",
    "addinfo1 = pd.read_csv(os.path.join(data_path, 'PCRC_186_AddtlPhenotypes1.csv')).drop_duplicates()\n",
    "addinfo2 = pd.read_csv(os.path.join(data_path, 'PCRC_186_AddtlPhenotypes2.csv')).drop_duplicates()\n",
    "\n",
    "addinfo1['SMOKE'] = 0\n",
    "addinfo1.loc[addinfo1['SmokingTobaccoClassification'].isin(['Current User']), 'SMOKE'] = 1\n",
    "addinfo1['MPOG_Patient_ID'] = addinfo1['MPOG_Patient_ID'].str.replace('-','').str.replace('}','').str.replace('{','').str.lower()\n",
    "addinfo1['MPOG_Case_ID'] = addinfo1['MPOG_Case_ID'].str.replace('-','').str.replace('}','').str.replace('{','').str.lower()\n",
    "\n",
    "addinfo2['SMOKE'] = 0\n",
    "addinfo2.loc[addinfo2['SmokingTobaccoClassification'].isin(['Current User']), 'SMOKE'] = 1\n",
    "addinfo2['MPOG_Patient_ID'] = addinfo2['MPOG_Patient_ID'].str.replace('-','').str.replace('}','').str.replace('{','').str.lower()\n",
    "addinfo2['MPOG_Case_ID'] = addinfo2['MPOG_Case_ID'].str.replace('-','').str.replace('}','').str.replace('{','').str.lower()\n",
    "\n",
    "caseinfo1 = caseinfo1.merge(addinfo1[['MPOG_Case_ID', 'MPOG_Patient_ID', 'SMOKE']], on = ['MPOG_Case_ID', 'MPOG_Patient_ID'], how = 'left')\n",
    "caseinfo1['SMOKE'] = caseinfo1['SMOKE'].fillna(0)\n",
    "\n",
    "caseinfo2 = caseinfo2.merge(addinfo2[['MPOG_Case_ID', 'MPOG_Patient_ID', 'SMOKE']], on = ['MPOG_Case_ID', 'MPOG_Patient_ID'], how = 'left')\n",
    "caseinfo2['SMOKE'] = caseinfo2['SMOKE'].fillna(0)\n",
    "\n",
    "print('Number of entries in Caseinfo1 = {}'.format(len(caseinfo1)))\n",
    "print('Number of entries in Caseinfo2 = {}'.format(len(caseinfo2)))\n",
    "\n",
    "print('Number of unique caseID in Caseinfo1 = {}'.format(len(caseinfo1.MPOG_Case_ID.unique())))\n",
    "print('Number of unique caseID in Caseinfo2 = {}'.format(len(caseinfo2.MPOG_Case_ID.unique())))\n"
   ]
  },
  {
   "cell_type": "markdown",
   "id": "77b194db",
   "metadata": {},
   "source": [
    "### Add dialysis info from ICD"
   ]
  },
  {
   "cell_type": "code",
   "execution_count": 72,
   "id": "e618457b",
   "metadata": {},
   "outputs": [
    {
     "name": "stdout",
     "output_type": "stream",
     "text": [
      "Number of entries in Caseinfo1 = 7060060\n",
      "Number of entries in Caseinfo2 = 4155859\n",
      "Number of unique caseID in Caseinfo1 = 7060060\n",
      "Number of unique caseID in Caseinfo2 = 4155859\n"
     ]
    }
   ],
   "source": [
    "#----------- Adding dialysis info from ICD codes (days from case between (-30,30))-----\n",
    "\n",
    "icd1 = pd.read_csv(os.path.join(data_path, 'PCRC_186_ICDCodes1.txt'), sep = '\\t').drop_duplicates()\n",
    "icd2 = pd.read_csv(os.path.join(data_path, 'PCRC_186_ICDCodes2.txt'), sep = '\\t').drop_duplicates()\n",
    "\n",
    "icd1['DIALYSIS'] = 0\n",
    "icd1.loc[icd1['Days From Case'] < 0, 'DIALYSIS'] = 1\n",
    "icd1['MPOG_Patient_ID'] = icd1['MPOG_Patient_ID'].str.replace('-','').str.replace('}','').str.replace('{','').str.lower()\n",
    "icd1['MPOG_Case_ID'] = icd1['MPOG_Case_ID'].str.replace('-','').str.replace('}','').str.replace('{','').str.lower()\n",
    "icd1 = icd1.drop_duplicates(subset = 'MPOG_Case_ID', keep = 'first')\n",
    "\n",
    "icd2['DIALYSIS'] = 0\n",
    "icd2.loc[icd2['Days From Case'] < 0, 'DIALYSIS'] = 1\n",
    "icd2['MPOG_Patient_ID'] = icd2['MPOG_Patient_ID'].str.replace('-','').str.replace('}','').str.replace('{','').str.lower()\n",
    "icd2['MPOG_Case_ID'] = icd2['MPOG_Case_ID'].str.replace('-','').str.replace('}','').str.replace('{','').str.lower()\n",
    "icd2 = icd2.drop_duplicates(subset = 'MPOG_Case_ID', keep = 'first')\n",
    "\n",
    "caseinfo1 = caseinfo1.merge(icd1[['MPOG_Case_ID', 'MPOG_Patient_ID', 'DIALYSIS']], on = ['MPOG_Case_ID', 'MPOG_Patient_ID'], how = 'left').drop_duplicates()\n",
    "caseinfo1['DIALYSIS'] = caseinfo1['DIALYSIS'].fillna(0)\n",
    "\n",
    "caseinfo2 = caseinfo2.merge(icd2[['MPOG_Case_ID', 'MPOG_Patient_ID', 'DIALYSIS']], on = ['MPOG_Case_ID', 'MPOG_Patient_ID'], how = 'left').drop_duplicates()\n",
    "caseinfo2['DIALYSIS'] = caseinfo2['DIALYSIS'].fillna(0)\n",
    "\n",
    "print('Number of entries in Caseinfo1 = {}'.format(len(caseinfo1)))\n",
    "print('Number of entries in Caseinfo2 = {}'.format(len(caseinfo2)))\n",
    "\n",
    "print('Number of unique caseID in Caseinfo1 = {}'.format(len(caseinfo1.MPOG_Case_ID.unique())))\n",
    "print('Number of unique caseID in Caseinfo2 = {}'.format(len(caseinfo2.MPOG_Case_ID.unique())))\n"
   ]
  },
  {
   "cell_type": "markdown",
   "id": "b34f9ca6",
   "metadata": {},
   "source": [
    "### Percent transfused table using Primary CPT codes"
   ]
  },
  {
   "cell_type": "code",
   "execution_count": 73,
   "id": "787e3839",
   "metadata": {},
   "outputs": [
    {
     "name": "stdout",
     "output_type": "stream",
     "text": [
      "Number of entries in Caseinfo1 = 7060060\n",
      "Number of entries in Caseinfo2 = 4155859\n",
      "Number of entries in c1_match = 7060060\n",
      "Number of entries in c2_match = 4155859\n",
      "Number of unique caseIDs in Caseinfo1 = 7060060\n",
      "Number of unique caseIDs in Caseinfo2 = 4155859\n",
      "Number of unique caseIDs in c1_match = 7060060\n",
      "Number of unique caseIDs in c2_match = 4155859\n"
     ]
    }
   ],
   "source": [
    "temp_1 = caseinfo1[['MPOG_Patient_ID', 'Institution', 'NOTHBLEED', 'Anesthesia CPT (Primary)']]\n",
    "cpt_prim_1 = temp_1.groupby(['Anesthesia CPT (Primary)', 'Institution']).agg({'MPOG_Patient_ID':'count', 'NOTHBLEED': 'sum'}).reset_index(drop = False).rename(columns = {'MPOG_Patient_ID':'count'})\n",
    "cpt_prim_1['percent_tf'] = (cpt_prim_1['NOTHBLEED']/cpt_prim_1['count'])*100\n",
    "cpt_prim_1 = cpt_prim_1.loc[cpt_prim_1['count'] >= 50]\n",
    "\n",
    "cpt_prim_1 = cpt_prim_1.rename(columns = {'NOTHBLEED':'count_transfused', 'percent_tf':'percent_transfused'})\n",
    "\n",
    "c1_match = caseinfo1.merge(cpt_prim_1, on = ['Anesthesia CPT (Primary)', 'Institution'], how = 'left')\n",
    "c2_match = caseinfo2.merge(cpt_prim_1, on = ['Anesthesia CPT (Primary)', 'Institution'], how = 'left')\n",
    "\n",
    "#print(len(c1_match))\n",
    "#print(c1_match['percent_transfused'].isnull().sum())\n",
    "\n",
    "#print(len(c2_match))\n",
    "#print(c2_match['percent_transfused'].isnull().sum())\n",
    "\n",
    "print('Number of entries in Caseinfo1 = {}'.format(len(caseinfo1)))\n",
    "print('Number of entries in Caseinfo2 = {}'.format(len(caseinfo2)))\n",
    "print('Number of entries in c1_match = {}'.format(len(c1_match)))\n",
    "print('Number of entries in c2_match = {}'.format(len(c2_match)))\n",
    "\n",
    "print('Number of unique caseIDs in Caseinfo1 = {}'.format(len(caseinfo1)))\n",
    "print('Number of unique caseIDs in Caseinfo2 = {}'.format(len(caseinfo2)))\n",
    "print('Number of unique caseIDs in c1_match = {}'.format(len(c1_match)))\n",
    "print('Number of unique caseIDs in c2_match = {}'.format(len(c2_match)))"
   ]
  },
  {
   "cell_type": "markdown",
   "id": "1ac096a2",
   "metadata": {},
   "source": [
    "### Percent transfused table using Predicted CPT codes"
   ]
  },
  {
   "cell_type": "code",
   "execution_count": 74,
   "id": "a9299859",
   "metadata": {},
   "outputs": [
    {
     "name": "stdout",
     "output_type": "stream",
     "text": [
      "Number of entries in Caseinfo1 = 7060060\n",
      "Number of entries in Caseinfo2 = 4155859\n",
      "Number of entries in c1_pred_match = 7060535\n",
      "Number of entries in c2_pred_match = 4156106\n",
      "Number of unique caseIDs in Caseinfo1 = 7060060\n",
      "Number of unique caseIDs in Caseinfo2 = 4155859\n",
      "Number of unique caseIDs in c1_pred_match = 7060535\n",
      "Number of unique caseIDs in c2_pred_match = 4156106\n"
     ]
    }
   ],
   "source": [
    "#------- Percent tranfused table using Predicted CPT code------------\n",
    "\n",
    "cpt1 = pd.read_csv(os.path.join(data_path, 'PCRC_186_CPTCodes1.txt'), sep = '\\t', encoding ='cp1252')\n",
    "cpt2 = pd.read_csv(os.path.join(data_path, 'PCRC_186_CPTCodes2.txt'), sep = '\\t', encoding ='cp1252')\n",
    "\n",
    "cpt1['MPOG_Patient_ID'] = cpt1['MPOG_Patient_ID'].str.replace('-','').str.replace('}','').str.replace('{','').str.lower()\n",
    "cpt1['MPOG_Case_ID'] = cpt1['MPOG_Case_ID'].str.replace('-','').str.replace('}','').str.replace('{','').str.lower()\n",
    "\n",
    "cpt2['MPOG_Patient_ID'] = cpt2['MPOG_Patient_ID'].str.replace('-','').str.replace('}','').str.replace('{','').str.lower()\n",
    "cpt2['MPOG_Case_ID'] = cpt2['MPOG_Case_ID'].str.replace('-','').str.replace('}','').str.replace('{','').str.lower()\n",
    "\n",
    "prior_transfused_1 = caseinfo1.merge(cpt1[['MPOG_Case_ID', 'MPOG_Patient_ID', 'Predicted Anes CPT Code 1']], on = ['MPOG_Case_ID', 'MPOG_Patient_ID'], how = 'inner')\n",
    "prior_transfused_2 = caseinfo2.merge(cpt2[['MPOG_Case_ID', 'MPOG_Patient_ID', 'Predicted Anes CPT Code 1']], on = ['MPOG_Case_ID', 'MPOG_Patient_ID'], how = 'inner')\n",
    "\n",
    "cpt_pred_1 = prior_transfused_1[['MPOG_Patient_ID', 'NOTHBLEED', 'Predicted Anes CPT Code 1', 'Institution']].groupby(['Predicted Anes CPT Code 1', 'Institution']).agg({'MPOG_Patient_ID':'count', 'NOTHBLEED': 'sum'}).reset_index(drop = False).rename(columns = {'MPOG_Patient_ID':'count'})\n",
    "cpt_pred_1['percent_tf'] = (cpt_pred_1['NOTHBLEED']/cpt_pred_1['count'])*100\n",
    "cpt_pred_1 = cpt_pred_1.loc[cpt_pred_1['count'] >= 50]\n",
    "\n",
    "cpt_pred_1 = cpt_pred_1.rename(columns = {'NOTHBLEED':'count_transfused', 'percent_tf':'percent_transfused'})\n",
    "\n",
    "c1_pred_match = prior_transfused_1.merge(cpt_pred_1, on = ['Predicted Anes CPT Code 1', 'Institution'], how = 'left')\n",
    "c2_pred_match = prior_transfused_2.merge(cpt_pred_1, on = ['Predicted Anes CPT Code 1', 'Institution'], how = 'left')\n",
    "\n",
    "#print(len(c2_pred_match))\n",
    "#print(c2_pred_match['percent_transfused'].isnull().sum())\n",
    "\n",
    "print('Number of entries in Caseinfo1 = {}'.format(len(caseinfo1)))\n",
    "print('Number of entries in Caseinfo2 = {}'.format(len(caseinfo2)))\n",
    "print('Number of entries in c1_pred_match = {}'.format(len(c1_pred_match)))\n",
    "print('Number of entries in c2_pred_match = {}'.format(len(c2_pred_match)))\n",
    "\n",
    "print('Number of unique caseIDs in Caseinfo1 = {}'.format(len(caseinfo1.MPOG_Case_ID.unique())))\n",
    "print('Number of unique caseIDs in Caseinfo2 = {}'.format(len(caseinfo2.MPOG_Case_ID)))\n",
    "print('Number of unique caseIDs in c1_pred_match = {}'.format(len(c1_pred_match)))\n",
    "print('Number of unique caseIDs in c2_pred_match = {}'.format(len(c2_pred_match)))\n",
    "\n",
    "# Multiply the percentage transfused by 100"
   ]
  },
  {
   "cell_type": "markdown",
   "id": "81e7961c",
   "metadata": {},
   "source": [
    "### Elective Surgery - defined as not emergency based on ASA score, not on a weekend/holiday, surgery date same as day of admission"
   ]
  },
  {
   "cell_type": "code",
   "execution_count": 75,
   "id": "1b8090af",
   "metadata": {},
   "outputs": [],
   "source": [
    "c2_match['ELECTSURG'] = 0\n",
    "c2_match.loc[(c2_match['Emergency Status (ASA Class) Yes/No'] == 'No') & (c2_match['Weekend'] == 'Weekday') & (c2_match['Holiday'] == 'No'), 'ELECTSURG'] = 1\n",
    "\n",
    "c2_pred_match['ELECTSURG'] = 0\n",
    "c2_pred_match.loc[(c2_pred_match['Emergency Status (ASA Class) Yes/No'] == 'No') & (c2_pred_match['Weekend'] == 'Weekday') & (c2_pred_match['Holiday'] == 'No'), 'ELECTSURG'] = 1\n",
    "\n",
    "c1_match['ELECTSURG'] = 0\n",
    "c1_match.loc[(c1_match['Emergency Status (ASA Class) Yes/No'] == 'No') & (c1_match['Weekend'] == 'Weekday') & (c1_match['Holiday'] == 'No'), 'ELECTSURG'] = 1\n",
    "\n",
    "c1_pred_match['ELECTSURG'] = 0\n",
    "c1_pred_match.loc[(c1_pred_match['Emergency Status (ASA Class) Yes/No'] == 'No') & (c1_pred_match['Weekend'] == 'Weekday') & (c1_pred_match['Holiday'] == 'No'), 'ELECTSURG'] = 1\n"
   ]
  },
  {
   "cell_type": "markdown",
   "id": "0d401095",
   "metadata": {},
   "source": [
    "### Adding QM measures (TRAN-01 and TRAN-02)¶"
   ]
  },
  {
   "cell_type": "code",
   "execution_count": 76,
   "id": "5a6ff03d",
   "metadata": {},
   "outputs": [
    {
     "name": "stdout",
     "output_type": "stream",
     "text": [
      "Number of entries in c1_pred_match = 7060060\n",
      "Number of entries in c2_pred_match = 4155859\n",
      "Number of entries in c1_match = 7060060\n",
      "Number of entries in c2_match = 4155859\n",
      "Number of unique caseIDs in c1_pred_match = 7060060\n",
      "Number of unique caseIDs in c2_pred_match = 4155859\n",
      "Number of unique caseIDs in c1_match = 7060060\n",
      "Number of unique caseIDs in c2_match = 4155859\n"
     ]
    }
   ],
   "source": [
    "qm1 = pd.read_csv(os.path.join(data_path, 'PCRC_186_QMeasures1.txt'), sep = '\\t').drop_duplicates()\n",
    "qm2 = pd.read_csv(os.path.join(data_path, 'PCRC_186_QMeasures2.txt'), sep = '\\t').drop_duplicates()\n",
    "\n",
    "qm1['MPOG_Case_ID'] = qm1['MPOG_Case_ID'].str.replace('-','').str.replace('}','').str.replace('{','').str.lower()\n",
    "qm2['MPOG_Case_ID'] = qm2['MPOG_Case_ID'].str.replace('-','').str.replace('}','').str.replace('{','').str.lower()\n",
    "\n",
    "c1_match = c1_match.merge(qm1, on = ['MPOG_Case_ID'], how = 'left').drop_duplicates()\n",
    "c1_pred_match = c1_pred_match.merge(qm1, on = ['MPOG_Case_ID'], how = 'left').drop_duplicates()\n",
    "\n",
    "c2_match = c2_match.merge(qm2, on = ['MPOG_Case_ID'], how = 'left').drop_duplicates()\n",
    "c2_pred_match = c2_pred_match.merge(qm2, on = ['MPOG_Case_ID'], how = 'left').drop_duplicates()\n",
    "\n",
    "print('Number of entries in c1_pred_match = {}'.format(len(c1_pred_match)))\n",
    "print('Number of entries in c2_pred_match = {}'.format(len(c2_pred_match)))\n",
    "print('Number of entries in c1_match = {}'.format(len(c1_match)))\n",
    "print('Number of entries in c2_match = {}'.format(len(c2_match)))\n",
    "\n",
    "print('Number of unique caseIDs in c1_pred_match = {}'.format(len(c1_pred_match.MPOG_Case_ID.unique())))\n",
    "print('Number of unique caseIDs in c2_pred_match = {}'.format(len(c2_pred_match.MPOG_Case_ID.unique())))\n",
    "print('Number of unique caseIDs in c1_match = {}'.format(len(c1_match.MPOG_Case_ID.unique())))\n",
    "print('Number of unique caseIDs in c2_match = {}'.format(len(c2_match.MPOG_Case_ID.unique())))"
   ]
  },
  {
   "cell_type": "markdown",
   "id": "8b6d3066",
   "metadata": {},
   "source": [
    "### Converting cols to NSQIP/WashU format and saving dataframes"
   ]
  },
  {
   "cell_type": "code",
   "execution_count": 77,
   "id": "fdd3ae14",
   "metadata": {},
   "outputs": [],
   "source": [
    "non_model_cols =  ['Medical School Affiliation', 'Hospital Bed Size','Mortality (In Hospital 30-day)', 'ASA Class', 'Anesthesia CPT - Base Unit Value', 'TRAN-01', 'TRAN-02', 'Race']\n",
    "\n",
    "col_dict_df = pd.read_excel('MPOG_variables_final.xlsx')\n",
    "col_dict = col_dict_df.set_index('MPOG')['NSQIP/WASHU'].to_dict()\n",
    "\n",
    "c2_match_reqd = c2_match[[col for col in c2_match.columns if col in col_dict_df['MPOG'].values]].rename(columns = col_dict)\n",
    "c2_match_reqd[non_model_cols] = c2_match[non_model_cols]\n",
    "assert len(c2_match_reqd) == c2_match_reqd.CaseID.nunique()\n",
    "\n",
    "c2_pred_match_reqd = c2_pred_match[[col for col in c2_pred_match.columns if col in col_dict_df['MPOG'].values]].rename(columns = col_dict)\n",
    "c2_pred_match_reqd[non_model_cols] = c2_pred_match[non_model_cols]\n",
    "assert len(c2_pred_match_reqd) == c2_pred_match_reqd.CaseID.nunique()\n",
    "\n",
    "c2_pred_match_reqd.drop(columns = 'CPT_PRIMARY').to_csv(\"c2_pred_match.csv\", index=False)\n",
    "c2_match_reqd.to_csv(\"c2_match.csv\", index=False)\n"
   ]
  },
  {
   "cell_type": "code",
   "execution_count": 83,
   "id": "92ab72be",
   "metadata": {},
   "outputs": [
    {
     "data": {
      "text/plain": [
       "array([ 69,  57,  68,  84,  19,  89,   1,  58,  36,  10,  16,   7,  65,\n",
       "        67,  78, 101,  14,  37,  20,  35,   4,  66,  42,  92,  75, 102,\n",
       "        96,  23,  83, 118,  76,  86,  47,  53,  56,  13,  88,  40,  70,\n",
       "        91,  46,  99,  82,  64,  80,  30,  98,  31,   8,  38,  32,  48,\n",
       "        59,  97, 115,  74,  22,   5], dtype=int64)"
      ]
     },
     "execution_count": 83,
     "metadata": {},
     "output_type": "execute_result"
    }
   ],
   "source": [
    "c2_pred_match_reqd.Institution.value_counts().index.values"
   ]
  },
  {
   "cell_type": "markdown",
   "id": "114fe9f6",
   "metadata": {},
   "source": [
    "## Surgeon identifier stats"
   ]
  },
  {
   "cell_type": "code",
   "execution_count": 78,
   "id": "6e85690b",
   "metadata": {},
   "outputs": [
    {
     "name": "stdout",
     "output_type": "stream",
     "text": [
      "Number of entries in c1_pred_match_surg = 3383244\n",
      "Number of entries in c2_pred_match_surg = 3685238\n",
      "Number of unique caseIDs in c1_pred_match_surg = 3234624\n",
      "Number of unique caseIDs in c2_pred_match_surg = 3476527\n"
     ]
    }
   ],
   "source": [
    "surg1 = pd.read_csv(os.path.join(root_path, 'PCRC_186_SurgStaff1_20230621.csv'), header = None).rename(columns = {0:'MPOG_Case_ID',1:'Surg_ID'}).drop_duplicates()\n",
    "surg2 = pd.read_csv(os.path.join(root_path, 'PCRC_186_SurgStaff2_20230621.csv'), header = None).rename(columns = {0:'MPOG_Case_ID',1:'Surg_ID'}).drop_duplicates()\n",
    "\n",
    "surg1['MPOG_Case_ID'] = surg1['MPOG_Case_ID'].str.replace('-','').str.lower()\n",
    "surg2['MPOG_Case_ID'] = surg2['MPOG_Case_ID'].str.replace('-','').str.lower()\n",
    "\n",
    "merge_surg1 = c1_pred_match.drop(columns = 'percent_transfused').merge(surg1, on = 'MPOG_Case_ID', how = 'inner')\n",
    "merge_surg2 = c2_pred_match.drop(columns = 'percent_transfused').merge(surg2, on = 'MPOG_Case_ID', how = 'inner')\n",
    "\n",
    "cpt_surg_1 = merge_surg1[['MPOG_Case_ID', 'NOTHBLEED', 'Predicted Anes CPT Code 1', 'Surg_ID']].groupby(['Predicted Anes CPT Code 1', 'Surg_ID']).agg({'MPOG_Case_ID':'count', 'NOTHBLEED': 'sum'}).reset_index(drop = False).rename(columns = {'MPOG_Case_ID':'case_count', 'NOTHBLEED':'event_count'})\n",
    "cpt_surg_1['percent_tf'] = (cpt_surg_1['event_count']/cpt_surg_1['case_count'])*100\n",
    "cpt_surg_1 = cpt_surg_1.loc[cpt_surg_1['case_count'] >= 50]\n",
    "\n",
    "cpt_surg_1 = cpt_surg_1.rename(columns = {'percent_tf':'percent_transfused'})\n",
    "\n",
    "c1_pred_match_surg = merge_surg1.merge(cpt_surg_1, on = ['Predicted Anes CPT Code 1', 'Surg_ID'], how = 'left')\n",
    "c2_pred_match_surg = merge_surg2.merge(cpt_surg_1, on = ['Predicted Anes CPT Code 1', 'Surg_ID'], how = 'left')\n",
    "\n",
    "# print('Number of entries in Caseinfo1 = {}'.format(len(caseinfo1)))\n",
    "# print('Number of entries in Caseinfo2 = {}'.format(len(caseinfo2)))\n",
    "# print('Number of entries in c1_pred_match_surg = {}'.format(len(c1_pred_match_surg)))\n",
    "# print('Number of entries in c2_pred_match_surg = {}'.format(len(c2_pred_match_surg)))\n",
    "\n",
    "print('Number of entries in c1_pred_match_surg = {}'.format(len(c1_pred_match_surg)))\n",
    "print('Number of entries in c2_pred_match_surg = {}'.format(len(c2_pred_match_surg)))\n",
    "\n",
    "print('Number of unique caseIDs in c1_pred_match_surg = {}'.format(len(c1_pred_match_surg.MPOG_Case_ID.unique())))\n",
    "print('Number of unique caseIDs in c2_pred_match_surg = {}'.format(len(c2_pred_match_surg.MPOG_Case_ID.unique())))\n"
   ]
  },
  {
   "cell_type": "code",
   "execution_count": 79,
   "id": "66071050",
   "metadata": {},
   "outputs": [],
   "source": [
    "non_model_cols =  ['Surg_ID', 'Medical School Affiliation', 'Hospital Bed Size','Mortality (In Hospital 30-day)', 'ASA Class', 'Anesthesia CPT - Base Unit Value', 'TRAN-01', 'TRAN-02', 'Race']\n",
    "\n",
    "col_dict_df = pd.read_excel('MPOG_variables_final.xlsx')\n",
    "col_dict = col_dict_df.set_index('MPOG')['NSQIP/WASHU'].to_dict()\n",
    "\n",
    "c2_pred_match_reqd_surg = c2_pred_match_surg[[col for col in c2_pred_match_surg.columns if col in col_dict_df['MPOG'].values]].rename(columns = col_dict)\n",
    "c2_pred_match_reqd_surg[non_model_cols] = c2_pred_match_surg[non_model_cols]\n",
    "\n",
    "c2_pred_match_reqd_surg.drop(columns = 'CPT_PRIMARY').to_csv(\"c2_pred_match_surg.csv\", index=False)\n"
   ]
  }
 ],
 "metadata": {
  "kernelspec": {
   "display_name": "Python 3 (ipykernel)",
   "language": "python",
   "name": "python3"
  },
  "language_info": {
   "codemirror_mode": {
    "name": "ipython",
    "version": 3
   },
   "file_extension": ".py",
   "mimetype": "text/x-python",
   "name": "python",
   "nbconvert_exporter": "python",
   "pygments_lexer": "ipython3",
   "version": "3.9.22"
  },
  "toc": {
   "base_numbering": 1,
   "nav_menu": {},
   "number_sections": true,
   "sideBar": true,
   "skip_h1_title": false,
   "title_cell": "Table of Contents",
   "title_sidebar": "Contents",
   "toc_cell": false,
   "toc_position": {},
   "toc_section_display": true,
   "toc_window_display": false
  }
 },
 "nbformat": 4,
 "nbformat_minor": 5
}
